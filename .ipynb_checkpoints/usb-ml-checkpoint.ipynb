{
 "cells": [
  {
   "cell_type": "markdown",
   "metadata": {},
   "source": [
    "# Identification of USB type with ML"
   ]
  },
  {
   "cell_type": "code",
   "execution_count": 3,
   "metadata": {},
   "outputs": [],
   "source": [
    "%matplotlib inline\n",
    "\n",
    "from PIL import Image\n",
    "import numpy, os\n",
    "from sklearn.model_selection import cross_val_score, train_test_split\n",
    "from sklearn.linear_model import RidgeCV\n",
    "\n",
    "from skimage.io import imread\n",
    "from skimage.filters import threshold_otsu\n",
    "from skimage import measure\n",
    "from skimage.transform import resize\n",
    "from skimage.measure import regionprops\n",
    "from skimage.morphology import binary_erosion, binary_dilation, binary_opening\n",
    "import matplotlib.pyplot as plt\n",
    "import matplotlib.patches as patches\n",
    "from sklearn.preprocessing import LabelEncoder\n",
    "import time\n"
   ]
  },
  {
   "cell_type": "code",
   "execution_count": 4,
   "metadata": {},
   "outputs": [],
   "source": [
    "def importimage(filename):\n",
    "    image = imread(filename, as_gray=True)\n",
    "    # crop top and bottom 100 pixels\n",
    "    image = image[100:620, 0:405]\n",
    "\n",
    "    gray_image_scaled = image * 255\n",
    "\n",
    "    threshold_value = threshold_otsu(gray_image_scaled)\n",
    "    binary_image = gray_image_scaled > threshold_value\n",
    " \n",
    "    binary_image = numpy.invert(binary_image)\n",
    "\n",
    "    # Dilate image to ensure that small parts of the usb are recognized as one object\n",
    "    binary_image = binary_dilation(binary_image)\n",
    "    binary_image = binary_dilation(binary_image)\n",
    "    binary_image = binary_dilation(binary_image)\n",
    "\n",
    "    label_image = measure.label(binary_image)\n",
    "\n",
    "    minx = 9999\n",
    "    miny = 9999\n",
    "    maxx = 0 \n",
    "    maxy = 0\n",
    "    for region in regionprops(label_image):\n",
    "        if region.area < 500:\n",
    "            # remove too small areas\n",
    "            continue\n",
    "        \n",
    "        # the bounding box coordinates\n",
    "        minRow, minCol, maxRow, maxCol = region.bbox\n",
    "        if (minx > minCol):\n",
    "            minx = minCol\n",
    "        if (miny > minRow):\n",
    "            miny = minRow\n",
    "        if (maxx < maxCol):\n",
    "            maxx = maxCol\n",
    "        if (maxy < maxRow):\n",
    "            maxy = maxRow\n",
    "\n",
    "    width = maxx - minx\n",
    "    height = maxy - miny    \n",
    "    # fig2, (ax3) = plt.subplots(1)\n",
    "    # ax3.imshow(gray_image_scaled, cmap=\"gray\")\n",
    "    # rectBorder = patches.Rectangle((minx, miny), width, height, edgecolor=\"red\", linewidth=2, fill=False)\n",
    "    # ax3.add_patch(rectBorder)\n",
    "    # plt.show()\n",
    "\n",
    "    resize_width = 64\n",
    "    resize_height = 64\n",
    "\n",
    "    if (width > height):\n",
    "        miny -= (width - height) / 2\n",
    "        maxy += (width - height) / 2\n",
    "    if (height > width):\n",
    "        minx -= (height - width) / 2\n",
    "        maxx += (height - width) / 2\n",
    "\n",
    "    cropped_image = gray_image_scaled[int(miny):int(maxy), int(minx):int(maxx)]\n",
    "    try:\n",
    "        scaled_cropped_image = resize(cropped_image, (resize_width, resize_height), \n",
    "                                      anti_aliasing=False, mode='constant')\n",
    "    except:\n",
    "        return None\n",
    "\n",
    "    return scaled_cropped_image"
   ]
  },
  {
   "cell_type": "code",
   "execution_count": 7,
   "metadata": {},
   "outputs": [
    {
     "name": "stdout",
     "output_type": "stream",
     "text": [
      "Imported 3958 images.\n",
      "SVC poly\n",
      "Accuracy: 99.74734714502273% (1974/1979)\n",
      "Time taken: 53.793824195861816 seconds.\n",
      "DecisionTreeClassifier\n",
      "Accuracy: 91.61192521475493% (1813/1979)\n",
      "Time taken: 4.534636735916138 seconds.\n",
      "KNeighbor\n",
      "Accuracy: 99.39363314805458% (1967/1979)\n",
      "Time taken: 21.794674158096313 seconds.\n"
     ]
    }
   ],
   "source": [
    "path=\"frames/\"\n",
    "labels = []\n",
    "imgs = []\n",
    "for directory in os.listdir(path):\n",
    "    for directory2 in os.listdir(path+directory):\n",
    "        for file in os.listdir(path+directory+\"/\"+directory2):\n",
    "#            print(path+directory+\"/\"+directory2+\"/\"+file)\n",
    "            img = importimage(path+directory+\"/\"+directory2+\"/\"+file)\n",
    "            if img is not None:\n",
    "                labels.append(directory)\n",
    "                imgs.append(img.reshape(-1))\n",
    "            # exit(0)\n",
    "\n",
    "print(\"Imported {} images.\".format(len(imgs)))\n",
    "X_train, X_test, y_train, y_test = train_test_split(imgs, labels, test_size=0.5, random_state=42)"
   ]
  },
  {
   "cell_type": "code",
   "execution_count": null,
   "metadata": {},
   "outputs": [],
   "source": [
    "from sklearn.svm import SVC\n",
    "t0 = time.time()\n",
    "print(\"SVC linear\")\n",
    "svc_model = SVC(kernel='linear', probability=True)\n",
    "svc_model.fit(X_train, y_train)\n",
    "result1 = svc_model.predict(X_test)\n",
    "correct = 0\n",
    "wrong = 0\n",
    "for i in range(0, len(X_test)):\n",
    "    if(y_test[i] == result1[i]):\n",
    "        correct += 1\n",
    "    else:\n",
    "        wrong += 1\n",
    "print(\"Accuracy: {}% ({}/{})\".format(correct / (correct + wrong) * 100, correct, correct + wrong))\n",
    "print(\"Time taken: {} seconds.\".format(time.time() - t0))"
   ]
  },
  {
   "cell_type": "code",
   "execution_count": null,
   "metadata": {},
   "outputs": [],
   "source": [
    "from sklearn.tree import DecisionTreeClassifier\n",
    "t0 = time.time()\n",
    "print(\"DecisionTreeClassifier\")\n",
    "dtf = DecisionTreeClassifier(random_state=42)\n",
    "dtf.fit(X_train, y_train)\n",
    "result1 = dtf.predict(X_test)\n",
    "correct = 0\n",
    "wrong = 0\n",
    "for i in range(0, len(X_test)):\n",
    "    if(y_test[i] == result1[i]):\n",
    "        correct += 1\n",
    "    else:\n",
    "        wrong += 1\n",
    "print(\"Accuracy: {}% ({}/{})\".format(correct / (correct + wrong) * 100, correct, correct + wrong))\n",
    "print(\"Time taken: {} seconds.\".format(time.time() - t0))"
   ]
  },
  {
   "cell_type": "code",
   "execution_count": null,
   "metadata": {},
   "outputs": [],
   "source": [
    "from sklearn.neighbors import KNeighborsClassifier\n",
    "t0 = time.time()\n",
    "print(\"KNeighbor\")\n",
    "knc = KNeighborsClassifier(n_neighbors=5)\n",
    "knc.fit(X_train, y_train)\n",
    "result1 = knc.predict(X_test)\n",
    "correct = 0\n",
    "wrong = 0\n",
    "for i in range(0, len(X_test)):\n",
    "    if(y_test[i] == result1[i]):\n",
    "        correct += 1\n",
    "    else:\n",
    "        wrong += 1\n",
    "print(\"Accuracy: {}% ({}/{})\".format(correct / (correct + wrong) * 100, correct, correct + wrong))\n",
    "print(\"Time taken: {} seconds.\".format(time.time() - t0))"
   ]
  }
 ],
 "metadata": {
  "kernelspec": {
   "display_name": "Python 3",
   "language": "python",
   "name": "python3"
  },
  "language_info": {
   "codemirror_mode": {
    "name": "ipython",
    "version": 3
   },
   "file_extension": ".py",
   "mimetype": "text/x-python",
   "name": "python",
   "nbconvert_exporter": "python",
   "pygments_lexer": "ipython3",
   "version": "3.7.0"
  }
 },
 "nbformat": 4,
 "nbformat_minor": 2
}
